{
 "cells": [
  {
   "cell_type": "code",
   "execution_count": 1,
   "metadata": {},
   "outputs": [
    {
     "name": "stdout",
     "output_type": "stream",
     "text": [
      "Found 34959 images belonging to 14 classes.\n",
      "Found 1832 images belonging to 14 classes.\n"
     ]
    }
   ],
   "source": [
    "from prototypes import Generator, Discriminator\n",
    "from data.loader import generate_labels, denorm_image, load_data\n",
    "import tensorflow as tf\n",
    "import numpy as np\n",
    "import os\n",
    "%matplotlib inline\n",
    "\n",
    "\n",
    "def display_image(*images, col=None, width=20):\n",
    "    from matplotlib import pyplot as plt\n",
    "\n",
    "    if col is None:\n",
    "        col = len(images)\n",
    "    row = np.math.ceil(len(images) / col)\n",
    "    plt.figure(figsize=(width, (width + 1) * row / col))\n",
    "    for i, image in enumerate(images):\n",
    "        plt.subplot(row, col, i + 1)\n",
    "        plt.axis('off')\n",
    "        plt.imshow(image, cmap='gray')\n",
    "    plt.subplots_adjust(wspace=0, hspace=0)\n",
    "    plt.show()\n",
    "    \n",
    "num_classes = 14\n",
    "image_size = 128\n",
    "min_neurons = 64\n",
    "noise_size = 128\n",
    "batch_size = 64\n",
    "\n",
    "    \n",
    "data_root = os.path.join(os.path.expanduser('~'), 'datasets', 'artworks')\n",
    "train_gen, valid_gen = load_data(data_root, batch_size=batch_size, image_width=image_size, split=.05)\n",
    "label2idx = valid_gen.class_indices\n",
    "idx2label = {value: key for key, value in label2idx.items()}\n",
    "gen = Generator(num_classes, image_size, bn=False)\n",
    "disc = Discriminator(num_classes, image_size, min_neurons)"
   ]
  },
  {
   "cell_type": "code",
   "execution_count": 22,
   "metadata": {},
   "outputs": [
    {
     "data": {
      "text/plain": [
       "True"
      ]
     },
     "execution_count": 22,
     "metadata": {},
     "output_type": "execute_result"
    }
   ],
   "source": [
    "gen.load('GANGogh10000')\n",
    "disc.load('GANGogh10000')"
   ]
  },
  {
   "cell_type": "code",
   "execution_count": 23,
   "metadata": {},
   "outputs": [],
   "source": [
    "SAMPLES = 64\n",
    "\n",
    "\n",
    "class Candidate:\n",
    "    def __init__(self, arr_image, critic_score, label, label_confidence):\n",
    "        self.image = arr_image\n",
    "        self.critic_score = critic_score\n",
    "        self.label = label\n",
    "        self.label_confidence = label_confidence\n",
    "\n",
    "\n",
    "def select_best_images(label, num_samples):\n",
    "    LOOK_AT = 1\n",
    "    BATCH_SIZE = 64\n",
    "    input_label = generate_labels(BATCH_SIZE, num_classes, condition=label)\n",
    "    list_candidates = []\n",
    "    for j in range(LOOK_AT):\n",
    "        noise = tf.random.uniform(shape=[BATCH_SIZE, noise_size], minval=-1., maxval=1.)\n",
    "        samples = gen.model.predict([noise, input_label])\n",
    "        pred_realness, pred_labels = disc.model.predict(samples)\n",
    "        pred_realness = pred_realness.squeeze()\n",
    "        guess = np.argmax(pred_labels, axis=1)\n",
    "        confidence = np.amax(pred_labels, axis=1)\n",
    "        indices = list(np.argwhere(guess == i))\n",
    "        samples = denorm_image(samples)\n",
    "        for k in indices:\n",
    "            k = k.squeeze()\n",
    "            candidate = Candidate(samples[k], pred_realness[k], label, confidence[k])\n",
    "            list_candidates.append(candidate)\n",
    "    list_candidates.sort(key=lambda x: x.label_confidence, reverse=True)\n",
    "    list_candidates = list_candidates[:num_samples * 3]\n",
    "    list_candidates.sort(key=lambda x: x.critic_score, reverse=True)\n",
    "    list_candidates = list_candidates[:num_samples]\n",
    "    return list_candidates"
   ]
  },
  {
   "cell_type": "code",
   "execution_count": 24,
   "metadata": {},
   "outputs": [
    {
     "name": "stdout",
     "output_type": "stream",
     "text": [
      "abstract\n",
      "\n",
      "animal-painting\n",
      "\n",
      "cityscape\n",
      "\n",
      "figurative\n",
      "\n",
      "flower-painting\n",
      "\n",
      "genre-painting\n",
      "\n",
      "landscape\n",
      "(2704208.0, 1.0) (2543536.2, 1.0) (2505433.5, 1.0) (2504969.2, 1.0) (2482940.2, 1.0) (2468786.8, 1.0) (2464449.2, 1.0) (2424318.5, 1.0) (2388862.0, 1.0) (2354084.8, 1.0) (2242093.5, 1.0) (2201366.2, 1.0) (2163498.2, 1.0) (2130853.5, 1.0) (2128357.2, 1.0) (2048733.5, 1.0)\n",
      "marina\n",
      "\n",
      "mythological-painting\n",
      "\n",
      "nude-painting-nu\n",
      "\n",
      "portrait\n",
      "(2558373.5, 1.0) (2545971.2, 1.0) (2393372.8, 1.0) (2114965.5, 1.0)\n",
      "religious-painting\n",
      "\n",
      "still-life\n",
      "\n",
      "symbolic-painting\n",
      "(-76095.164, 1.0) (-512046.8, 1.0)\n"
     ]
    }
   ],
   "source": [
    "for i in range(14):\n",
    "    print(idx2label[i])\n",
    "    candidates = select_best_images(i, 16)\n",
    "    print(*[(i.critic_score, i.label_confidence) for i in candidates])\n",
    "#     display_image(*[i.image for i in candidates], col=4, width=15)\n",
    "\n",
    "    "
   ]
  },
  {
   "cell_type": "code",
   "execution_count": null,
   "metadata": {},
   "outputs": [],
   "source": []
  }
 ],
 "metadata": {
  "kernelspec": {
   "display_name": "tf2",
   "language": "python",
   "name": "tf2"
  },
  "language_info": {
   "codemirror_mode": {
    "name": "ipython",
    "version": 3
   },
   "file_extension": ".py",
   "mimetype": "text/x-python",
   "name": "python",
   "nbconvert_exporter": "python",
   "pygments_lexer": "ipython3",
   "version": "3.6.5"
  }
 },
 "nbformat": 4,
 "nbformat_minor": 2
}
