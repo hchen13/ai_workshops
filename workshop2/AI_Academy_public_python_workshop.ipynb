{
  "nbformat": 4,
  "nbformat_minor": 0,
  "metadata": {
    "colab": {
      "name": "AI_Academy_public_python_workshop.ipynb",
      "version": "0.3.2",
      "provenance": [],
      "collapsed_sections": [
        "2NG-4-wErEiY",
        "EfXqWY8MViA4",
        "SIb8nrWWWgiy"
      ],
      "toc_visible": true
    },
    "kernelspec": {
      "name": "python3",
      "display_name": "Python 3"
    }
  },
  "cells": [
    {
      "cell_type": "markdown",
      "metadata": {
        "id": "rTk92vkbOSdY",
        "colab_type": "text"
      },
      "source": [
        "# Fundamental"
      ]
    },
    {
      "cell_type": "markdown",
      "metadata": {
        "id": "bdiNZFAAOksO",
        "colab_type": "text"
      },
      "source": [
        "#### Run Python Scripts and Packages\n",
        "\n",
        "* Run a script\n",
        "\n",
        "> We can run a python script by first running python followed by the name of the python file.\n",
        "Depending on your bindings, it can either be py, py3, python, python3 etc...\n",
        "\n",
        "~~~bash\n",
        "python example.py\n",
        "~~~\n",
        "\n",
        ">This will run the script contained in the example.py file located in the current directory\n",
        "\n",
        "* Install Packages\n",
        "\n",
        "> We can install packages using PIP,  the python package manager. PIP stands for Pip Installs Packages (weird name...) and is available by default for python installation above 3.4.\n",
        "\n",
        "> Packages can be found at https://pypi.org/ and installed with the following command:\n",
        "~~~bash\n",
        "pip install package-name\n",
        "pip install keras\n",
        "~~~\n",
        "\n",
        "> Once installed packages are available to be imported in our scripts. However, packages installed simply using that command will be installed system wide (We will come back to how to install packages cleanly with environments)\n",
        "\n",
        "> It is important to note that Python come directly with various packages which are not loaded by default\n",
        "\n",
        "*  Import packages\n",
        "\n",
        "> We can import freshly installed packages with the following line of codes:\n",
        "\n",
        "\n"
      ]
    },
    {
      "cell_type": "code",
      "metadata": {
        "id": "qDUiTTXFtIB3",
        "colab_type": "code",
        "colab": {}
      },
      "source": [
        "import datetime # import python's datetime package\n",
        "import keras # import the whole keras package"
      ],
      "execution_count": 0,
      "outputs": []
    },
    {
      "cell_type": "markdown",
      "metadata": {
        "id": "GMP3Jl13tKw0",
        "colab_type": "text"
      },
      "source": [
        "> We can also import a specific sub-module from a package with the following line of code:\n"
      ]
    },
    {
      "cell_type": "code",
      "metadata": {
        "id": "U3KhdZE4uIFE",
        "colab_type": "code",
        "colab": {}
      },
      "source": [
        "from keras import layers # import the layers sub-module from the keras packages"
      ],
      "execution_count": 0,
      "outputs": []
    },
    {
      "cell_type": "markdown",
      "metadata": {
        "id": "d7TPaZF_uY3h",
        "colab_type": "text"
      },
      "source": [
        "> We can also access these sub-modules by using the . notations in our import, for exemple:\n"
      ]
    },
    {
      "cell_type": "code",
      "metadata": {
        "id": "JcK-QbDIukLB",
        "colab_type": "code",
        "colab": {}
      },
      "source": [
        "from keras.applications import inception_v3 # import the inception_v3 sub-module from the application sub-module of the keras packages"
      ],
      "execution_count": 0,
      "outputs": []
    },
    {
      "cell_type": "markdown",
      "metadata": {
        "id": "Vmmwd3GrvDFK",
        "colab_type": "text"
      },
      "source": [
        "> We can also rename the packages or sub-modules directly in the import statement like this:"
      ]
    },
    {
      "cell_type": "code",
      "metadata": {
        "id": "kP6QO6srvQun",
        "colab_type": "code",
        "colab": {}
      },
      "source": [
        "import pandas as pd # import the pandas packages and rename it 'pd' => this is a convention"
      ],
      "execution_count": 0,
      "outputs": []
    },
    {
      "cell_type": "markdown",
      "metadata": {
        "id": "hInl6CUTvdSd",
        "colab_type": "text"
      },
      "source": [
        "* Create modules\n",
        "\n",
        "> We can also create our own python modules and import them in our main scripts to have cleaner code.\n",
        "> 3 different cases arise:\n",
        "\n",
        "\n",
        "> 1.   If the module is in the same directory (not in a sub-folder) it can be directly imported and run the script with the import statement such as:\n"
      ]
    },
    {
      "cell_type": "code",
      "metadata": {
        "id": "e2-gVpYDxRQt",
        "colab_type": "code",
        "colab": {}
      },
      "source": [
        "# example.py\n",
        "print('from example.py')\n",
        "\n",
        "# main.py\n",
        "import example # this will import our example module and run the code"
      ],
      "execution_count": 0,
      "outputs": []
    },
    {
      "cell_type": "markdown",
      "metadata": {
        "id": "6YFHQNEcx9Fe",
        "colab_type": "text"
      },
      "source": [
        "> 2.   If the module is in the same directory and we simply want to import a function or a class from it, we can do it using the following code:"
      ]
    },
    {
      "cell_type": "code",
      "metadata": {
        "id": "XMdpFzgux8Yv",
        "colab_type": "code",
        "colab": {}
      },
      "source": [
        "# example.py\n",
        "def test_function():\n",
        "  print('from test_function')\n",
        "  \n",
        "# main.py\n",
        "from example import test_function # this will import the test_function functions (but not run the code inside)"
      ],
      "execution_count": 0,
      "outputs": []
    },
    {
      "cell_type": "markdown",
      "metadata": {
        "id": "tgUsdz_kykcI",
        "colab_type": "text"
      },
      "source": [
        "> 3.   If the module is not in the same directory, it is a bit more complicated (but necessary if we want to organize well our scripts):\n",
        "\n",
        "> > * Creating a __init__.py in the same folder than the script we want to export and import the specific function or class we want to export.\n",
        "> > * Now we can import in our main file scripts stored in sub-folders by using the dot notation on the folder name.\n",
        "\n",
        "> > Let's see how to do that in an example:\n",
        "\n",
        "\n",
        "\n",
        "\n",
        "\n"
      ]
    },
    {
      "cell_type": "code",
      "metadata": {
        "id": "FclASKVczzAu",
        "colab_type": "code",
        "colab": {}
      },
      "source": [
        "# folder/example.py\n",
        "def test_function():\n",
        "  print('from test_function')\n",
        "  \n",
        "# folder/__init__.py\n",
        "from .example import test_function\n",
        "\n",
        "# main.py\n",
        "from folder.example import test_function"
      ],
      "execution_count": 0,
      "outputs": []
    },
    {
      "cell_type": "markdown",
      "metadata": {
        "id": "Q4iQirkZ0KZj",
        "colab_type": "text"
      },
      "source": [
        "*   Python's special if __name__ == '__main__':\n",
        "\n",
        "> Sometimes, you will want to run a specific part of code only if the script is run directly, not if it is imported as a module. In that case you will use the special syntax:\n",
        "\n"
      ]
    },
    {
      "cell_type": "code",
      "metadata": {
        "id": "SnkIPFJp0j4u",
        "colab_type": "code",
        "colab": {}
      },
      "source": [
        "if __name__ == '__main__': \n",
        "  print('I am running this script directly')"
      ],
      "execution_count": 0,
      "outputs": []
    },
    {
      "cell_type": "markdown",
      "metadata": {
        "id": "tGkDpD-R09Tv",
        "colab_type": "text"
      },
      "source": [
        "> The Python interpreter will assign the `__main__ string in __name__` if the script is the one directly called in the Python command.\n",
        "\n",
        "> Modules which are imported from another script will not have the code inside the `__main__ string in __name__` block runnning. "
      ]
    },
    {
      "cell_type": "markdown",
      "metadata": {
        "id": "9rvI9cD-1oQe",
        "colab_type": "text"
      },
      "source": [
        "#### Python's Basic Data Types\n",
        "\n",
        "* int\n",
        "> A simple an integer number\n",
        "\n"
      ]
    },
    {
      "cell_type": "code",
      "metadata": {
        "id": "G2Q7pjhi7S9M",
        "colab_type": "code",
        "colab": {}
      },
      "source": [
        "# int\n",
        "a = 5\n",
        "b = 12435"
      ],
      "execution_count": 0,
      "outputs": []
    },
    {
      "cell_type": "markdown",
      "metadata": {
        "id": "OE1WczNh7pN8",
        "colab_type": "text"
      },
      "source": [
        "* float\n",
        "> A float number that can have a normal and scientific notations"
      ]
    },
    {
      "cell_type": "code",
      "metadata": {
        "id": "LfGANaqu41FC",
        "colab_type": "code",
        "colab": {}
      },
      "source": [
        "# float (normal notations)\n",
        "a = 1.2 # traditional syntax\n",
        "b = .2 # lazy syntax avoiding 0\n",
        "c = 1. # I only have an integer but want to make float operation on it\n",
        "\n",
        "# float (scientific notation)\n",
        "a = 1e-07 # quite commonly used in AI"
      ],
      "execution_count": 0,
      "outputs": []
    },
    {
      "cell_type": "markdown",
      "metadata": {
        "id": "pim5ZUkJ8MJX",
        "colab_type": "text"
      },
      "source": [
        "* str\n",
        "> A string that have various syntax. There are no specific conventions in python for use of single or double quotes.\n"
      ]
    },
    {
      "cell_type": "code",
      "metadata": {
        "id": "jiee87xn8ac9",
        "colab_type": "code",
        "colab": {}
      },
      "source": [
        "# str (single and double quotes)\n",
        "a = \"double quote string\"\n",
        "b = 'single quote string'\n",
        "\n",
        "# str (raw strings)\n",
        "a = r'raw\\\\string' # will print the exact string\n",
        "b = 'not\\\\raw\\\\string' # will consider the escape characters and interpret them\n",
        "\n",
        "# str (triple quotes)\n",
        "a = '''This string can be written\n",
        "on several lines''' # this string will be printed in as many lines that are displayed in the script"
      ],
      "execution_count": 0,
      "outputs": []
    },
    {
      "cell_type": "markdown",
      "metadata": {
        "id": "3N9b6sdI88jC",
        "colab_type": "text"
      },
      "source": [
        "* bool\n",
        "> A boolean can either be True or False"
      ]
    },
    {
      "cell_type": "code",
      "metadata": {
        "id": "d80mxkEi9CIO",
        "colab_type": "code",
        "colab": {}
      },
      "source": [
        "# bool\n",
        "a = True\n",
        "b = False"
      ],
      "execution_count": 0,
      "outputs": []
    },
    {
      "cell_type": "markdown",
      "metadata": {
        "id": "s9CKCNwe9FDY",
        "colab_type": "text"
      },
      "source": [
        "* list\n",
        "> A list is an array of ordered element which is mutable"
      ]
    },
    {
      "cell_type": "code",
      "metadata": {
        "id": "MAt4ghwC9LVG",
        "colab_type": "code",
        "colab": {}
      },
      "source": [
        "# list（列表）\n",
        "a = [1, 2, 3] # normal list of integers\n",
        "b = ['one', 'two', 'three'] # normal list of strings\n",
        "c = [1, 'two', 3.] # normal list of mixed types\n",
        "d = [[1, 2, 3], [4, 5, 6]] # nested lists, i.e. list of lists"
      ],
      "execution_count": 0,
      "outputs": []
    },
    {
      "cell_type": "markdown",
      "metadata": {
        "id": "mdYEBH1p-EeB",
        "colab_type": "text"
      },
      "source": [
        "* tuple\n",
        "> A tuple is similar to a list but are immutable"
      ]
    },
    {
      "cell_type": "code",
      "metadata": {
        "id": "9px3WX50-TI-",
        "colab_type": "code",
        "colab": {}
      },
      "source": [
        "# tuple（元组）\n",
        "a = (1, 2, 3) # normal tuple of int\n",
        "b = ('one', 'two', 'three') # normal tuple of string"
      ],
      "execution_count": 0,
      "outputs": []
    },
    {
      "cell_type": "markdown",
      "metadata": {
        "id": "6DB5F3Ar-gfu",
        "colab_type": "text"
      },
      "source": [
        "* set\n",
        "> a set is similar to a list but are unordered"
      ]
    },
    {
      "cell_type": "code",
      "metadata": {
        "id": "JWD5gpN8-mdB",
        "colab_type": "code",
        "colab": {}
      },
      "source": [
        "# set(集合)\n",
        "a = {1, 2, 3} # normal set of int\n",
        "b = {'one', 'two', 'three'} # normal set of string"
      ],
      "execution_count": 0,
      "outputs": []
    },
    {
      "cell_type": "markdown",
      "metadata": {
        "id": "I9RHKKnT-zoK",
        "colab_type": "text"
      },
      "source": [
        "* dictionary \n",
        "> a set is a list of key:pair value similar to a JS object"
      ]
    },
    {
      "cell_type": "code",
      "metadata": {
        "id": "4VN32ayJ-4xa",
        "colab_type": "code",
        "colab": {}
      },
      "source": [
        "# dictionary（字典）\n",
        "a = {'1': 'Chen', '2': 'Gee', '3': 'Fabien'} # a dictionary with 1, 2, 3 as key and Chen, AK, Fabien as items\n",
        "b = {'Fabien': 1, 'Gee': 2, 'Chen': 3} # a dictionary with Fabien, Ak and Chen as key and 1, 2, 3 as items\n"
      ],
      "execution_count": 0,
      "outputs": []
    },
    {
      "cell_type": "markdown",
      "metadata": {
        "id": "rlN97bJA_Sdl",
        "colab_type": "text"
      },
      "source": [
        "NoneType\n",
        "> is a defined Non-existant value"
      ]
    },
    {
      "cell_type": "code",
      "metadata": {
        "id": "QMugG-SY_TlA",
        "colab_type": "code",
        "colab": {}
      },
      "source": [
        "# NoneType\n",
        "a = None"
      ],
      "execution_count": 0,
      "outputs": []
    },
    {
      "cell_type": "markdown",
      "metadata": {
        "id": "gPeea1x0bTP9",
        "colab_type": "text"
      },
      "source": [
        "#### String formattings\n",
        "\n",
        "In many times we need to combine text with variable values, such as \n",
        "\n",
        "~~~python\n",
        "\n",
        "num_people = 5\n",
        "\n",
        "print(\"There are\", num_people, \"people participating the workshop.\")\n",
        "~~~\n",
        "This will print \"There are 5 people participating the workshop.\". \n",
        "\n",
        "However, this way of implementation is inconvenient, especially when we need to combine multiple variables and display each variable differently.\n",
        "\n",
        "Luckily, python supports a nice formatting tool which allows us to take advantage of the concept of placeholders"
      ]
    },
    {
      "cell_type": "markdown",
      "metadata": {
        "id": "Vj_WVRGTdQC6",
        "colab_type": "text"
      },
      "source": [
        "* Simple placeholder"
      ]
    },
    {
      "cell_type": "code",
      "metadata": {
        "id": "4tImn6LhdbVv",
        "colab_type": "code",
        "outputId": "5b3012ca-3049-4400-b80c-40b0e2a4d37e",
        "colab": {
          "base_uri": "https://localhost:8080/",
          "height": 34
        }
      },
      "source": [
        "template = \"{0}, {1}, {2}, and {3} are good friends.\"\n",
        "\n",
        "print(template.format(\"Fabien\", \"Ethan\", \"Gee\", \"Ironman\"))"
      ],
      "execution_count": 0,
      "outputs": [
        {
          "output_type": "stream",
          "text": [
            "Fabien, Ethan, Gee, and Ironman are good friends.\n"
          ],
          "name": "stdout"
        }
      ]
    },
    {
      "cell_type": "markdown",
      "metadata": {
        "id": "EpLkDyCxdyAp",
        "colab_type": "text"
      },
      "source": [
        "> ``{}`` creates a placeholder inside the string which will be filled in place later. \n",
        "\n",
        "> The numbering allows us to control the order of the variables "
      ]
    },
    {
      "cell_type": "code",
      "metadata": {
        "id": "niyickWBeRbY",
        "colab_type": "code",
        "outputId": "e4ae3092-3e1e-4196-bc5f-e718b09beb67",
        "colab": {
          "base_uri": "https://localhost:8080/",
          "height": 34
        }
      },
      "source": [
        "template = \"{3}, {1}, {2}, and {0} are good friends.\"\n",
        "\n",
        "print(template.format(\"Fabien\", \"Ethan\", \"AK\", \"Ironman\"))"
      ],
      "execution_count": 0,
      "outputs": [
        {
          "output_type": "stream",
          "text": [
            "Ironman, Ethan, AK, and Fabien are good friends.\n"
          ],
          "name": "stdout"
        }
      ]
    },
    {
      "cell_type": "markdown",
      "metadata": {
        "id": "Q9sVSJp2eY9l",
        "colab_type": "text"
      },
      "source": [
        "> We can omit the numbering to use the default ordering"
      ]
    },
    {
      "cell_type": "code",
      "metadata": {
        "id": "tRXYS8DKelZQ",
        "colab_type": "code",
        "outputId": "d55ea10d-768f-487e-d143-06b22bb1b1f0",
        "colab": {
          "base_uri": "https://localhost:8080/",
          "height": 34
        }
      },
      "source": [
        "template = \"{}, {}, {}, and {} are good friends.\"\n",
        "\n",
        "print(template.format(\"Fabien\", \"Ethan\", \"AK\", \"Ironman\"))"
      ],
      "execution_count": 0,
      "outputs": [
        {
          "output_type": "stream",
          "text": [
            "Fabien, Ethan, AK, and Ironman are good friends.\n"
          ],
          "name": "stdout"
        }
      ]
    },
    {
      "cell_type": "markdown",
      "metadata": {
        "id": "zPxgP37jepGK",
        "colab_type": "text"
      },
      "source": [
        "* Named placeholders\n",
        "\n",
        "We can give placeholders names to prevent misplacing"
      ]
    },
    {
      "cell_type": "code",
      "metadata": {
        "id": "iONVOg3Ye6eq",
        "colab_type": "code",
        "outputId": "219a2807-01c3-41bb-853b-2bd8ddf8c2c6",
        "colab": {
          "base_uri": "https://localhost:8080/",
          "height": 34
        }
      },
      "source": [
        "template = \"My name is {name}, and I'm {age} years old.\"\n",
        "\n",
        "print(template.format(name='Ethan', age=25))"
      ],
      "execution_count": 0,
      "outputs": [
        {
          "output_type": "stream",
          "text": [
            "My name is Ethan, and I'm 25 years old.\n"
          ],
          "name": "stdout"
        }
      ]
    },
    {
      "cell_type": "markdown",
      "metadata": {
        "id": "DNnqs43ZfQAb",
        "colab_type": "text"
      },
      "source": [
        "* Special formats"
      ]
    },
    {
      "cell_type": "code",
      "metadata": {
        "id": "sELeWCzffoXU",
        "colab_type": "code",
        "colab": {}
      },
      "source": [
        "# number of decimal places\n",
        "\n",
        "pi = 3.1415926\n",
        "\n",
        "print(\"The value of π is {:.2f}\".format(pi))\n",
        "print(\"The value of π is {:.3f}\".format(pi))\n",
        "print(\"The value of π is {:.4f}\".format(pi))\n",
        "print()\n",
        "\n",
        "# zero padding\n",
        "\n",
        "print(\"Ethan's ID is {:03d}\".format(34))\n",
        "print(\"Fabien's ID is {:03d}\".format(108))\n",
        "print(\"AK's ID is {:03d}\".format(3))\n",
        "print()\n",
        "\n",
        "# financial\n",
        "\n",
        "price = 779563.9905\n",
        "\n",
        "print(\"My account balance is ¥{:,.2f}\".format(price))\n",
        "print()\n",
        "\n",
        "# scientific notation\n",
        "\n",
        "big_number = 58346364853673498\n",
        "small_number = 0.0034523\n",
        "\n",
        "print(\"{0} = {0:.3e}\".format(big_number))\n",
        "print(\"{0} = {0:.3e}\".format(small_number))\n",
        "print()"
      ],
      "execution_count": 0,
      "outputs": []
    },
    {
      "cell_type": "markdown",
      "metadata": {
        "id": "yBQilUFx_r9Q",
        "colab_type": "text"
      },
      "source": [
        "#### Python's Operations\n",
        "\n",
        "* Basic operations: +, -, *, /\n",
        "> We can mix int and float type together, the result would be a float if one of the number is a float\n"
      ]
    },
    {
      "cell_type": "code",
      "metadata": {
        "id": "snCgxMYRd5M5",
        "colab_type": "code",
        "colab": {}
      },
      "source": [
        "a = 1 + 10\n",
        "b = 2.1 + 10\n",
        "c = 1.0 + 10.5\n",
        "\n",
        "a = 10 - 1\n",
        "b = 10 - 2.1\n",
        "c = 10.5 - 1.0\n",
        "\n",
        "a = 1 * 10\n",
        "b = 2.1 * 10\n",
        "c = 1.0 * 10.5\n",
        "\n",
        "a = 1 / 10\n",
        "b = 2.1 / 10\n",
        "c = 1.0 / 10.5"
      ],
      "execution_count": 0,
      "outputs": []
    },
    {
      "cell_type": "markdown",
      "metadata": {
        "id": "C_LfCac4e93A",
        "colab_type": "text"
      },
      "source": [
        "* Other operations: //, **, %\n",
        "> // is a floor division\n",
        "\n",
        "> ** is exponentiation\n",
        "\n",
        "> % is modulo division"
      ]
    },
    {
      "cell_type": "code",
      "metadata": {
        "id": "pD2Y2mc2fckZ",
        "colab_type": "code",
        "outputId": "8e12327c-bc6f-4362-e768-161532a99cf8",
        "colab": {
          "base_uri": "https://localhost:8080/",
          "height": 170
        }
      },
      "source": [
        "a = 11 // 2\n",
        "b = 10.6 // 2\n",
        "c = 12.6 // 4\n",
        "\n",
        "print(\"floor division 11 // 2 = \", a)\n",
        "print(\"floor division 10.6 // 2 = \", b)\n",
        "print(\"floor division 12.6 // 4 = \", c)\n",
        "\n",
        "a = 2 ** 2\n",
        "b = 2. ** 3\n",
        "c = 1.2 ** 5.1\n",
        "\n",
        "print(\"exponentiation a:\", a)\n",
        "print(\"exponentiation b:\", b)\n",
        "print(\"exponentiation c:\", c)\n",
        "\n",
        "a = 3 % 2\n",
        "b = 11 % 3\n",
        "c = 50 % 5\n",
        "\n",
        "print(\"3 % 2 =\", a)\n",
        "print(\"11 % 3 =\", b)\n",
        "print(\"50 % 5 =\", c)\n"
      ],
      "execution_count": 0,
      "outputs": [
        {
          "output_type": "stream",
          "text": [
            "floor division 11 // 2 =  5\n",
            "floor division 10.6 // 2 =  5.0\n",
            "floor division 12.6 // 4 =  3.0\n",
            "exponentiation a: 4\n",
            "exponentiation b: 8.0\n",
            "exponentiation c: 2.534103535654163\n",
            "3 % 2 = 1\n",
            "11 % 3 = 2\n",
            "50 % 5 = 0\n"
          ],
          "name": "stdout"
        }
      ]
    },
    {
      "cell_type": "markdown",
      "metadata": {
        "id": "SWEBOBRWphrm",
        "colab_type": "text"
      },
      "source": [
        "* Shortcut: +=, -=, etc...\n",
        "> We can directly make an operation with previous variable by putting the operations side right before the = sign"
      ]
    },
    {
      "cell_type": "code",
      "metadata": {
        "id": "eRqHcp9np6lO",
        "colab_type": "code",
        "outputId": "6d0b3a62-50d1-45dd-ef73-6d08b021e18e",
        "colab": {
          "base_uri": "https://localhost:8080/",
          "height": 68
        }
      },
      "source": [
        "a = 1\n",
        "a += 2\n",
        "\n",
        "print(\"shortcut +=:\", a)\n",
        "\n",
        "a -= 1\n",
        "\n",
        "print(\"shortcut -=:\", a)\n",
        "\n",
        "a *= 5\n",
        "\n",
        "print(\"shortcut *=:\", a)"
      ],
      "execution_count": 0,
      "outputs": [
        {
          "output_type": "stream",
          "text": [
            "shortcut +=: 3\n",
            "shortcut -=: 2\n",
            "shortcut *=: 10\n"
          ],
          "name": "stdout"
        }
      ]
    },
    {
      "cell_type": "markdown",
      "metadata": {
        "id": "2NG-4-wErEiY",
        "colab_type": "text"
      },
      "source": [
        "#### Flow control basics\n",
        "\n",
        "* Loops\n",
        "\n",
        "> Loops in Python are directly iterating over the array.\n",
        "\n",
        "> Simple loops are using the following syntax:"
      ]
    },
    {
      "cell_type": "code",
      "metadata": {
        "id": "ejPYQA_Trn1q",
        "colab_type": "code",
        "outputId": "e93856a4-a7f6-4138-9722-95ce2f23d873",
        "colab": {
          "base_uri": "https://localhost:8080/",
          "height": 34
        }
      },
      "source": [
        "for number in [1, 2, 3, 4]:\n",
        "  print(number, end=',')"
      ],
      "execution_count": 0,
      "outputs": [
        {
          "output_type": "stream",
          "text": [
            "1,2,3,4,"
          ],
          "name": "stdout"
        }
      ]
    },
    {
      "cell_type": "markdown",
      "metadata": {
        "id": "RBHEpQbLryZ4",
        "colab_type": "text"
      },
      "source": [
        "> Loops can also have access to the index of the iterations using the enumerate function:"
      ]
    },
    {
      "cell_type": "code",
      "metadata": {
        "id": "nVmcoO1FsAoF",
        "colab_type": "code",
        "outputId": "5296936e-a6fa-4d22-ada6-3373da0824b7",
        "colab": {
          "base_uri": "https://localhost:8080/",
          "height": 85
        }
      },
      "source": [
        "for (i, number) in enumerate([3, 4, 1, 2]):\n",
        "  print(\"This is the {} operation: {}\".format(i, number))"
      ],
      "execution_count": 0,
      "outputs": [
        {
          "output_type": "stream",
          "text": [
            "This is the 0 operation: 3\n",
            "This is the 1 operation: 4\n",
            "This is the 2 operation: 1\n",
            "This is the 3 operation: 2\n"
          ],
          "name": "stdout"
        }
      ]
    },
    {
      "cell_type": "markdown",
      "metadata": {
        "id": "D_C0_oMFsoYX",
        "colab_type": "text"
      },
      "source": [
        "* Other loops\n",
        "> We can also loop on an array of tuple or a dictionary with the following syntax:"
      ]
    },
    {
      "cell_type": "code",
      "metadata": {
        "id": "C6jV38Zcp9er",
        "colab_type": "code",
        "outputId": "52742bad-6cd3-4be6-b943-01a714bcfe80",
        "colab": {
          "base_uri": "https://localhost:8080/",
          "height": 119
        }
      },
      "source": [
        "# loop with tuples\n",
        "pairs = [(1, 2), (2, 3), (3, 4)] \n",
        "for (a, b) in pairs:\n",
        "  print(\"tuple: ({}, {})\".format(a, b))\n",
        "  \n",
        "# loop with dictionary\n",
        "person = {\"name\": \"Fabien\", \"age\": 32, \"pet\": True}\n",
        "for (k, v) in person.items():\n",
        "  print(\"key: {} - value: {}\".format(k, v))"
      ],
      "execution_count": 0,
      "outputs": [
        {
          "output_type": "stream",
          "text": [
            "tuple: (1, 2)\n",
            "tuple: (2, 3)\n",
            "tuple: (3, 4)\n",
            "key: name - value: Fabien\n",
            "key: age - value: 32\n",
            "key: pet - value: True\n"
          ],
          "name": "stdout"
        }
      ]
    },
    {
      "cell_type": "markdown",
      "metadata": {
        "id": "GhuoJ4d7rflh",
        "colab_type": "text"
      },
      "source": [
        "* if else \n",
        "> you can use the following syntax in python:"
      ]
    },
    {
      "cell_type": "code",
      "metadata": {
        "id": "Yl-2nHCUrn4p",
        "colab_type": "code",
        "outputId": "9eac0a42-88dc-4a17-b4e4-d166776ab027",
        "colab": {
          "base_uri": "https://localhost:8080/",
          "height": 34
        }
      },
      "source": [
        "a = 10\n",
        "b = 8\n",
        "if b > a:\n",
        "  print(\"b is bigger than a\")\n",
        "elif b == a:\n",
        "  print(\"b is equal to a\")\n",
        "else:\n",
        "  print(\"a is bigger than b\")"
      ],
      "execution_count": 0,
      "outputs": [
        {
          "output_type": "stream",
          "text": [
            "a is smaller than b\n"
          ],
          "name": "stdout"
        }
      ]
    },
    {
      "cell_type": "markdown",
      "metadata": {
        "id": "o1rmqKbLsTbG",
        "colab_type": "text"
      },
      "source": [
        "> the logical operations are the following:\n",
        "\n",
        "> * Equals: a == b\n",
        "\n",
        "> * Not Equals: a != b\n",
        "\n",
        "> * Less than: a < b\n",
        "\n",
        "> * Less than or equal to: a <= b\n",
        "\n",
        "> * Greater than: a > b\n",
        "\n",
        "> * Greater than or equal to: a >= b\n",
        "\n",
        "* While Loops\n",
        "\n",
        "> Now that we know the logical operations in Python, we can use a while loop, be careful to have stop conditions"
      ]
    },
    {
      "cell_type": "code",
      "metadata": {
        "id": "zVyj96lqtvLd",
        "colab_type": "code",
        "outputId": "14b88d6d-16a6-47cf-9c40-705a6b1e7b6a",
        "colab": {
          "base_uri": "https://localhost:8080/",
          "height": 85
        }
      },
      "source": [
        "a = 0\n",
        "while a <= 3:\n",
        "  print('a ({}) is not bigger than 3'.format(a))\n",
        "  a += 1 # important to not be stuck in an infinite loop"
      ],
      "execution_count": 0,
      "outputs": [
        {
          "output_type": "stream",
          "text": [
            "a (0) is not bigger than 3\n",
            "a (1) is not bigger than 3\n",
            "a (2) is not bigger than 3\n",
            "a (3) is not bigger than 3\n"
          ],
          "name": "stdout"
        }
      ]
    },
    {
      "cell_type": "markdown",
      "metadata": {
        "id": "AjjWM1Z3u25a",
        "colab_type": "text"
      },
      "source": [
        "* Break and continue statement\n",
        "\n",
        "> We can control more the flow of our loops with break and continue:\n",
        "\n",
        "> In specific cases, we will want to skip an iteration or stop the iteration"
      ]
    },
    {
      "cell_type": "code",
      "metadata": {
        "id": "Z15siEv_vNd6",
        "colab_type": "code",
        "outputId": "2fb73b88-2001-4acf-de7a-2d8a0576efe6",
        "colab": {
          "base_uri": "https://localhost:8080/",
          "height": 68
        }
      },
      "source": [
        "# break statement example\n",
        "# stop the loop if a == 2\n",
        "for a in [1,2,3]:\n",
        "  if a == 2: \n",
        "    break\n",
        "  print(\"break loop: {}\".format(a))\n",
        "  \n",
        "# continue statement example\n",
        "# skip the iteration if a ==2\n",
        "for a in [1, 2, 3]:\n",
        "  if a == 2:\n",
        "    continue\n",
        "  print(\"continue loop: {}\".format(a))"
      ],
      "execution_count": 0,
      "outputs": [
        {
          "output_type": "stream",
          "text": [
            "break loop: 1\n",
            "continue loop: 1\n",
            "continue loop: 3\n"
          ],
          "name": "stdout"
        }
      ]
    },
    {
      "cell_type": "markdown",
      "metadata": {
        "id": "yXdTwWhg8_SQ",
        "colab_type": "text"
      },
      "source": [
        "#### Dictionaries\n",
        "\n",
        "Dictionaries are widely used in Python, they are very similar to JS objects.\n",
        "\n",
        "* Creating a dictionary\n",
        "\n",
        "> There are several ways to create a python dictionary:\n",
        "\n",
        "> * Use the {} notation\n",
        "\n",
        "> * Use the dict() function with either tuple or assignement"
      ]
    },
    {
      "cell_type": "code",
      "metadata": {
        "id": "ih1-obwkIIoW",
        "colab_type": "code",
        "outputId": "48d3020a-a16d-4fe5-9593-16f2ab32c605",
        "colab": {
          "base_uri": "https://localhost:8080/",
          "height": 68
        }
      },
      "source": [
        "# creating a dictionary with the {} notation\n",
        "age_of_ultron = {\n",
        "    \"movie\": \"Avengers: Age of Ultron\",\n",
        "    \"name\": \"Ironman\",\n",
        "    \"status\": \"alive\"\n",
        "}\n",
        "print(age_of_ultron)\n",
        "\n",
        "# creating a dictionary with the dict() function and tuple\n",
        "infinity_war = dict([\n",
        "    (\"movie\", \"Avengers: Infinity War\"),\n",
        "    (\"name\", \"Ironman\"),\n",
        "    (\"status\", \"alive\")\n",
        "])\n",
        "print(infinity_war)\n",
        "\n",
        "# creating a dictionary with the dict() function and assignment\n",
        "endgame = dict(\n",
        "    movie=\"Avengers: Endgame\",\n",
        "    name=\"Ironman\",\n",
        "    status=\"dead\"\n",
        ")\n",
        "print(endgame)\n"
      ],
      "execution_count": 0,
      "outputs": [
        {
          "output_type": "stream",
          "text": [
            "{'movie': 'Avengers: Age of Ultron', 'name': 'Ironman', 'status': 'alive'}\n",
            "{'movie': 'Avengers: Infinity War', 'name': 'Ironman', 'status': 'alive'}\n",
            "{'movie': 'Avengers: Endgame', 'name': 'Ironman', 'status': 'dead'}\n"
          ],
          "name": "stdout"
        }
      ]
    },
    {
      "cell_type": "markdown",
      "metadata": {
        "id": "MN2UpBxBKDI2",
        "colab_type": "text"
      },
      "source": [
        "* Accessing dictionary's value\n",
        "\n",
        "> We can access a dictionary's specific value by using the slicing notation and the name of the key"
      ]
    },
    {
      "cell_type": "code",
      "metadata": {
        "id": "whO9Dv7cKzpA",
        "colab_type": "code",
        "outputId": "f2dda8a6-078b-40e5-9463-f6291972f684",
        "colab": {
          "base_uri": "https://localhost:8080/",
          "height": 34
        }
      },
      "source": [
        "# accessing the status of ironman in the Infinity War movie\n",
        "print(infinity_war['status'])"
      ],
      "execution_count": 0,
      "outputs": [
        {
          "output_type": "stream",
          "text": [
            "alive\n"
          ],
          "name": "stdout"
        }
      ]
    },
    {
      "cell_type": "markdown",
      "metadata": {
        "id": "wnKWp4vVLN0i",
        "colab_type": "text"
      },
      "source": [
        "* Modifying a dictionary\n",
        "\n",
        "> Adding a new key:value pair\n",
        "\n",
        "> Modifying an existing key's value\n",
        "\n",
        "> Deleting an existing key's value\n",
        "\n"
      ]
    },
    {
      "cell_type": "code",
      "metadata": {
        "id": "41zG6ZF3mGP-",
        "colab_type": "code",
        "outputId": "72b61028-7acb-4051-cb56-4ca5c51998d1",
        "colab": {
          "base_uri": "https://localhost:8080/",
          "height": 68
        }
      },
      "source": [
        "# adding a new key:value pair\n",
        "infinity_war['released'] = True\n",
        "print(infinity_war)\n",
        "\n",
        "# modifying an existing key:value\n",
        "infinity_war['status'] = 'dead'\n",
        "print(infinity_war)\n",
        "\n",
        "# deleting an existing key\n",
        "del infinity_war['released']\n",
        "print(infinity_war)"
      ],
      "execution_count": 0,
      "outputs": [
        {
          "output_type": "stream",
          "text": [
            "{'movie': 'Avengers: Infinity War', 'name': 'Ironman', 'status': 'alive', 'released': True}\n",
            "{'movie': 'Avengers: Infinity War', 'name': 'Ironman', 'status': 'dead', 'released': True}\n",
            "{'movie': 'Avengers: Infinity War', 'name': 'Ironman', 'status': 'dead'}\n"
          ],
          "name": "stdout"
        }
      ]
    },
    {
      "cell_type": "markdown",
      "metadata": {
        "id": "7_ZHeuLMnWLE",
        "colab_type": "text"
      },
      "source": [
        "* Build a dictionary incrementaly\n",
        "\n",
        "> First we can create an empty dictionary and add key value pair one by one"
      ]
    },
    {
      "cell_type": "code",
      "metadata": {
        "id": "lniYF4jTnmPk",
        "colab_type": "code",
        "outputId": "e5bd12bd-8a28-48c1-a6ee-28cd6df43430",
        "colab": {
          "base_uri": "https://localhost:8080/",
          "height": 34
        }
      },
      "source": [
        "new_movie ={}\n",
        "new_movie['movie'] = 'Unknown'\n",
        "new_movie['name'] = 'Ironman'\n",
        "new_movie['status'] = 'still dead'\n",
        "print(new_movie)"
      ],
      "execution_count": 0,
      "outputs": [
        {
          "output_type": "stream",
          "text": [
            "{'movie': 'Unknown', 'name': 'Ironman', 'status': 'still dead'}\n"
          ],
          "name": "stdout"
        }
      ]
    },
    {
      "cell_type": "markdown",
      "metadata": {
        "id": "2p3HFGPXoTug",
        "colab_type": "text"
      },
      "source": [
        "* Additional info\n",
        "\n",
        "> Value can be more than just strings: array, other dictionary, tuples, or functions"
      ]
    },
    {
      "cell_type": "code",
      "metadata": {
        "id": "h2JalIANopuD",
        "colab_type": "code",
        "outputId": "5793297d-79c7-4b9f-d747-a15ca6cf4864",
        "colab": {
          "base_uri": "https://localhost:8080/",
          "height": 68
        }
      },
      "source": [
        "# storing an array in a dictionary\n",
        "infinity_war['heroes'] = ['Ironman', 'Thor']\n",
        "print(infinity_war)\n",
        "\n",
        "# storing a dictionary into a dictionary\n",
        "infinity_war['heroes'][1] = { 'name' : 'Thor', 'status': 'alive' }\n",
        "print(infinity_war)\n",
        "\n",
        "# storing a function into a dictionary\n",
        "def snap():\n",
        "  print('SNAP')\n",
        "infinity_war['snap'] = snap\n",
        "infinity_war['snap']()"
      ],
      "execution_count": 0,
      "outputs": [
        {
          "output_type": "stream",
          "text": [
            "{'heroes': ['Ironman', 'Thor'], 'snap': <function snap at 0x7f5bbd310d90>}\n",
            "{'heroes': ['Ironman', {'name': 'Thor', 'status': 'alive'}], 'snap': <function snap at 0x7f5bbd310d90>}\n",
            "SNAP\n"
          ],
          "name": "stdout"
        }
      ]
    },
    {
      "cell_type": "markdown",
      "metadata": {
        "id": "WtZuHOncr1bZ",
        "colab_type": "text"
      },
      "source": [
        "## `Iterables`\n",
        "\n",
        "In python, there is a concept called `iterable`. It describes a set of data types including `list`, `tuple`, and `str`. An `iterable` object is consisting of a series of ordered elements, each of which can be accessed directly by specifying its index (numbered position in the object) or iteratively by looping.\n"
      ]
    },
    {
      "cell_type": "markdown",
      "metadata": {
        "id": "fj8oAUQXtmv0",
        "colab_type": "text"
      },
      "source": [
        "* Accessing iterable object length"
      ]
    },
    {
      "cell_type": "code",
      "metadata": {
        "id": "rXvSShzEssoB",
        "colab_type": "code",
        "outputId": "7bede1c8-47e2-475e-9803-49fc2db352c1",
        "colab": {
          "base_uri": "https://localhost:8080/",
          "height": 34
        }
      },
      "source": [
        "iterable_object = [\"a\", \"list\"] #@param [\"this is a string\", \"(\\\"this\\\", \\\"is\\\", \\\"a\\\", \\\"tuple\\\")\", \"[\\\"a\\\", \\\"list\\\"]\"] {type:\"raw\"}\n",
        "\n",
        "print(len(iterable_object))"
      ],
      "execution_count": 0,
      "outputs": [
        {
          "output_type": "stream",
          "text": [
            "4\n"
          ],
          "name": "stdout"
        }
      ]
    },
    {
      "cell_type": "markdown",
      "metadata": {
        "id": "nPACCLQytrMi",
        "colab_type": "text"
      },
      "source": [
        "* Accessing element by indexing\n",
        "\n",
        "> Index starts from 0. In python, we can access the elements using negative indices, it's a shortcut of `length - i`"
      ]
    },
    {
      "cell_type": "code",
      "metadata": {
        "id": "K8wJ47GQtvZj",
        "colab_type": "code",
        "outputId": "8ddc98d9-b13b-496e-9b38-fadbfec0b0ad",
        "colab": {
          "base_uri": "https://localhost:8080/",
          "height": 34
        }
      },
      "source": [
        "iterable_object = \"this is a string\" #@param [\"\\\"this is a string\\\"\", \"(\\\"this\\\", \\\"is\\\", \\\"a\\\", \\\"tuple\\\")\", \"[\\\"a\\\", \\\"list\\\"]\"] {type:\"raw\"}\n",
        "\n",
        "index = -2  #@param {type:\"integer\"}\n",
        "\n",
        "print(iterable_object[index])"
      ],
      "execution_count": 0,
      "outputs": [
        {
          "output_type": "stream",
          "text": [
            "n\n"
          ],
          "name": "stdout"
        }
      ]
    },
    {
      "cell_type": "markdown",
      "metadata": {
        "id": "IGFeoG8Qv_ic",
        "colab_type": "text"
      },
      "source": [
        "* Unpacking\n",
        "\n",
        "> Unpacking an `iterable` object of length $n$ will receive $n$ objects"
      ]
    },
    {
      "cell_type": "code",
      "metadata": {
        "id": "hzv77oNrwa8y",
        "colab_type": "code",
        "outputId": "0175b028-ce8f-4b6e-aee3-6c4ad61659dd",
        "colab": {
          "base_uri": "https://localhost:8080/",
          "height": 34
        }
      },
      "source": [
        "iterable_object = \"this is a string\" #@param [\"\\\"this is a string\\\"\", \"(\\\"this\\\", \\\"is\\\", \\\"a\\\", \\\"tuple\\\")\", \"[\\\"a\\\", \\\"list\\\"]\"] {type:\"raw\"}\n",
        "\n",
        "print(*iterable_object, sep='-')"
      ],
      "execution_count": 0,
      "outputs": [
        {
          "output_type": "stream",
          "text": [
            "t-h-i-s- -i-s- -a- -s-t-r-i-n-g\n"
          ],
          "name": "stdout"
        }
      ]
    },
    {
      "cell_type": "markdown",
      "metadata": {
        "id": "IwSRvP9YwoWB",
        "colab_type": "text"
      },
      "source": [
        "> This will be useful in later sections."
      ]
    },
    {
      "cell_type": "markdown",
      "metadata": {
        "id": "ufTs3QBZWs5M",
        "colab_type": "text"
      },
      "source": [
        "# Functions\n"
      ]
    },
    {
      "cell_type": "markdown",
      "metadata": {
        "id": "EfXqWY8MViA4",
        "colab_type": "text"
      },
      "source": [
        "## Declare a function\n",
        "\n",
        "We declare a function using the following syntax:"
      ]
    },
    {
      "cell_type": "code",
      "metadata": {
        "id": "fGPYbIHGVvEM",
        "colab_type": "code",
        "colab": {}
      },
      "source": [
        "def f(x):\n",
        "  return 2 * x + 3\n",
        "\n",
        "\n",
        "print(f(1), f(3), f(5))"
      ],
      "execution_count": 0,
      "outputs": []
    },
    {
      "cell_type": "markdown",
      "metadata": {
        "id": "syCNI8nSV-ZJ",
        "colab_type": "text"
      },
      "source": [
        "When declaring an empty function, we use the ```pass``` keyword to specify doing nothing"
      ]
    },
    {
      "cell_type": "code",
      "metadata": {
        "id": "o98zDycIWMTz",
        "colab_type": "code",
        "outputId": "1432d21b-d8e0-4452-9f8c-c18bd4566e69",
        "colab": {
          "base_uri": "https://localhost:8080/",
          "height": 130
        }
      },
      "source": [
        "def empty_func_incorrect():\n",
        "  \n",
        "\n",
        "\n",
        "def empty_function():\n",
        "  pass\n",
        "\n",
        "\n",
        "empty_function()"
      ],
      "execution_count": 0,
      "outputs": [
        {
          "output_type": "error",
          "ename": "IndentationError",
          "evalue": "ignored",
          "traceback": [
            "\u001b[0;36m  File \u001b[0;32m\"<ipython-input-4-f2e40b5153e6>\"\u001b[0;36m, line \u001b[0;32m5\u001b[0m\n\u001b[0;31m    def empty_function():\u001b[0m\n\u001b[0m      ^\u001b[0m\n\u001b[0;31mIndentationError\u001b[0m\u001b[0;31m:\u001b[0m expected an indented block\n"
          ]
        }
      ]
    },
    {
      "cell_type": "markdown",
      "metadata": {
        "id": "SIb8nrWWWgiy",
        "colab_type": "text"
      },
      "source": [
        "## Returning multiple values"
      ]
    },
    {
      "cell_type": "markdown",
      "metadata": {
        "id": "_U-HXhTYXBQG",
        "colab_type": "text"
      },
      "source": [
        "## Assigning default values to function arguments"
      ]
    },
    {
      "cell_type": "markdown",
      "metadata": {
        "id": "rMSVSPHVXJHk",
        "colab_type": "text"
      },
      "source": [
        "### The importance of assigning immutable object as default value\n",
        "\n",
        "> consider the following code:"
      ]
    },
    {
      "cell_type": "code",
      "metadata": {
        "id": "and69Z1QXRiq",
        "colab_type": "code",
        "outputId": "dc877afe-781f-47f9-af08-c4e5fc90b99c",
        "colab": {
          "base_uri": "https://localhost:8080/",
          "height": 102
        }
      },
      "source": [
        "def append_end(queue=[]):\n",
        "  queue.append('the end')\n",
        "  return queue\n",
        "\n",
        "\n",
        "print(append_end([1, 2, 3]))\n",
        "print(append_end([1]))\n",
        "\n",
        "print(append_end())\n",
        "print(append_end())\n",
        "print(append_end())"
      ],
      "execution_count": 0,
      "outputs": [
        {
          "output_type": "stream",
          "text": [
            "[1, 2, 3, 'the end']\n",
            "[1, 'the end']\n",
            "['the end']\n",
            "['the end', 'the end']\n",
            "['the end', 'the end', 'the end']\n"
          ],
          "name": "stdout"
        }
      ]
    },
    {
      "cell_type": "markdown",
      "metadata": {
        "id": "hzVFyaJ3XtMO",
        "colab_type": "text"
      },
      "source": [
        "> You will notice that the last 2 executions act not as we expected. The reason causing this is that we specified the default value of argument \"queue\" as an empty list, which is mutable. \n",
        "\n",
        "> After the first execution with default value being used, that default list is modified, which in turn affects later executions.\n",
        "\n",
        "> The correct implementation:"
      ]
    },
    {
      "cell_type": "code",
      "metadata": {
        "id": "x04mHpFkYxYR",
        "colab_type": "code",
        "outputId": "137912a5-7b1a-4500-f3c8-a681de8c1c32",
        "colab": {
          "base_uri": "https://localhost:8080/",
          "height": 68
        }
      },
      "source": [
        "def append_end(queue=None):\n",
        "  if queue is None:\n",
        "    queue = []\n",
        "  queue.append('the end')\n",
        "  return queue\n",
        "\n",
        "\n",
        "print(append_end())\n",
        "print(append_end())\n",
        "print(append_end([1, 2, 3]))"
      ],
      "execution_count": 0,
      "outputs": [
        {
          "output_type": "stream",
          "text": [
            "['the end']\n",
            "['the end']\n",
            "[1, 2, 3, 'the end']\n"
          ],
          "name": "stdout"
        }
      ]
    },
    {
      "cell_type": "markdown",
      "metadata": {
        "id": "kry0IIXnagX4",
        "colab_type": "text"
      },
      "source": [
        "## The use of `*args, **kwargs`"
      ]
    },
    {
      "cell_type": "markdown",
      "metadata": {
        "id": "uj7ZdI44WC4O",
        "colab_type": "text"
      },
      "source": [
        "### `*args`: variable-length argument list functions\n",
        "\n",
        "In python, we can specify a variable number of arguments passed into a function.\n",
        "\n",
        "Let's consider the following situation: \n",
        "\n",
        "There is a series of numbers: $a, b, c, d, e, ...$, and we wish to calculate their squared sum. \n",
        "\n",
        "Because we don't know how many numbers are there, we can design a function that accepts a list or a tuple of numbers such as the following:\n",
        "\n",
        "\n"
      ]
    },
    {
      "cell_type": "code",
      "metadata": {
        "id": "Tvccl55oX3fk",
        "colab_type": "code",
        "colab": {}
      },
      "source": [
        "def squared_sum(numbers):\n",
        "  sum = 0\n",
        "  for x in numbers:\n",
        "    sum += x ** 2\n",
        "  return sum"
      ],
      "execution_count": 0,
      "outputs": []
    },
    {
      "cell_type": "markdown",
      "metadata": {
        "id": "5yGbUJ8XX9EI",
        "colab_type": "text"
      },
      "source": [
        "When calling this function, we first need to assemble a list. "
      ]
    },
    {
      "cell_type": "code",
      "metadata": {
        "id": "9oZivEgfY56Z",
        "colab_type": "code",
        "outputId": "ba1dcbbc-7196-43f1-ccaa-78b33d0e3f07",
        "colab": {
          "base_uri": "https://localhost:8080/",
          "height": 51
        }
      },
      "source": [
        "print(squared_sum([1, 2, 3]))\n",
        "print(squared_sum([1]))"
      ],
      "execution_count": 0,
      "outputs": [
        {
          "output_type": "stream",
          "text": [
            "14\n",
            "1\n"
          ],
          "name": "stdout"
        }
      ]
    },
    {
      "cell_type": "markdown",
      "metadata": {
        "id": "PuPUkrAvZCvM",
        "colab_type": "text"
      },
      "source": [
        "When using `*args` syntax, we can simplify the procedure like the following:"
      ]
    },
    {
      "cell_type": "code",
      "metadata": {
        "id": "Zf-OgpQPZRFX",
        "colab_type": "code",
        "outputId": "8bf3abd7-a4df-4f13-abbb-d9cd789307f0",
        "colab": {
          "base_uri": "https://localhost:8080/",
          "height": 51
        }
      },
      "source": [
        "def squared_sum(*numbers):\n",
        "  sum = 0\n",
        "  for x in numbers:\n",
        "    sum += x ** 2\n",
        "  return sum\n",
        "\n",
        "\n",
        "print(squared_sum(1, 2, 3))\n",
        "print(squared_sum(1))"
      ],
      "execution_count": 0,
      "outputs": [
        {
          "output_type": "stream",
          "text": [
            "14\n",
            "1\n"
          ],
          "name": "stdout"
        }
      ]
    },
    {
      "cell_type": "markdown",
      "metadata": {
        "id": "fusd2wZkZbqe",
        "colab_type": "text"
      },
      "source": [
        "This will allow any number of arguments passed into the function, including 0. \n",
        "\n",
        "Sometimes we already have a list containing several numbers, now that we have  a variable-length arguments function, how do we use it? The answer is by unpacking the list:"
      ]
    },
    {
      "cell_type": "code",
      "metadata": {
        "id": "9GAdpvGaaCZv",
        "colab_type": "code",
        "outputId": "7111d68c-c135-4fc5-9f75-a7d3376aaf6c",
        "colab": {
          "base_uri": "https://localhost:8080/",
          "height": 34
        }
      },
      "source": [
        "a = [3, 1, 5, 4, 7]\n",
        "\n",
        "print(squared_sum(*a))"
      ],
      "execution_count": 0,
      "outputs": [
        {
          "output_type": "stream",
          "text": [
            "100\n"
          ],
          "name": "stdout"
        }
      ]
    },
    {
      "cell_type": "markdown",
      "metadata": {
        "id": "vJjvUMq2an5J",
        "colab_type": "text"
      },
      "source": [
        "### `**kwargs`: arbitrary keyword arguments function\n",
        "\n",
        "Let's say that you're building an application that processes use information. Users may give you different sets of information and you want to store them all.\n",
        "\n",
        "This can be implemented with the following code:"
      ]
    },
    {
      "cell_type": "code",
      "metadata": {
        "id": "DM9T2E6tcVMG",
        "colab_type": "code",
        "outputId": "d6a55f7d-e0e6-4db4-a9b2-16dfe08d1112",
        "colab": {
          "base_uri": "https://localhost:8080/",
          "height": 51
        }
      },
      "source": [
        "def user_info(name, age, **kwargs):\n",
        "  print(\"name: {}, age: {}, others: {}\".format(name, age, kwargs))\n",
        "\n",
        "  \n",
        "user_info(\"Fabien\", 25, city='Chengdu', gender='M', interests=['AI', 'Python', 'Money'])\n",
        "\n",
        "user_info(\"Ethan\", 25, occupation='Super Hero', date_of_birth=\"1990.01.01\")"
      ],
      "execution_count": 0,
      "outputs": [
        {
          "output_type": "stream",
          "text": [
            "name: Fabien, age: 25, others: {'city': 'Chengdu', 'gender': 'M', 'interests': ['AI', 'Python', 'Money']}\n",
            "name: Ethan, age: 25, others: {'occupation': 'Super Hero', 'date_of_birth': '1990.01.01'}\n"
          ],
          "name": "stdout"
        }
      ]
    },
    {
      "cell_type": "markdown",
      "metadata": {
        "id": "BuSrGGM0dJez",
        "colab_type": "text"
      },
      "source": [
        "In this way, the function defines 2 mandatory arguments: name and age, and accepts any number of keyword arguments. \n",
        "\n",
        "Similar to `*args`, if we already have a dictionary containing several key-value pairs, how do you use it?"
      ]
    },
    {
      "cell_type": "code",
      "metadata": {
        "id": "iCn2XGzOd9W2",
        "colab_type": "code",
        "outputId": "28831e0b-1701-4461-d951-197877b769f1",
        "colab": {
          "base_uri": "https://localhost:8080/",
          "height": 54
        }
      },
      "source": [
        "extra_info = {\n",
        "    'gender': 'M',\n",
        "    'city': \"New York\",\n",
        "    'occupation': \"super hero\",\n",
        "    'wechat_id': 'ironman_999'\n",
        "}\n",
        "\n",
        "user_info('Tony Stark', 25, **extra_info)"
      ],
      "execution_count": 0,
      "outputs": [
        {
          "output_type": "stream",
          "text": [
            "name: Tony Stark, age: 25, others: {'gender': 'M', 'city': 'New York', 'occupation': 'super hero', 'wechat_id': 'ironman_999'}\n"
          ],
          "name": "stdout"
        }
      ]
    },
    {
      "cell_type": "markdown",
      "metadata": {
        "id": "XOo8RPohe49y",
        "colab_type": "text"
      },
      "source": [
        "In above code we used a new syntax: `**extra_info`, this means to unpack a dictionary into multiple key-value pairs then pass all of them into the function. "
      ]
    },
    {
      "cell_type": "markdown",
      "metadata": {
        "id": "s-KCMpeZfgte",
        "colab_type": "text"
      },
      "source": [
        "# Some advanced features"
      ]
    },
    {
      "cell_type": "markdown",
      "metadata": {
        "id": "-wJlALupgcBl",
        "colab_type": "text"
      },
      "source": [
        "## Slicing: retrieving sub-array and more"
      ]
    },
    {
      "cell_type": "markdown",
      "metadata": {
        "id": "sTy5-CCtgm8S",
        "colab_type": "text"
      },
      "source": [
        "## List comprehensions"
      ]
    },
    {
      "cell_type": "markdown",
      "metadata": {
        "id": "w-lM_gqzgqQe",
        "colab_type": "text"
      },
      "source": [
        "## Generator\n",
        "\n",
        "In deep learning, especially with processing large amount of images, we need to leverage the use of `Generator` to avoid reading data into memory space which cannot be stored.\n",
        "\n"
      ]
    },
    {
      "cell_type": "markdown",
      "metadata": {
        "id": "nZK6sypbizzB",
        "colab_type": "text"
      },
      "source": [
        "Assume we have a directory named \"images\" and inside it we have 10,000 images with names \"img_1.jpg\", \"img_2.jpg\", ...\n",
        "\n",
        "Apparently it's impossible to load them all into our memory, instead, we are loading them by batches.\n",
        "\n",
        "Normally we would write the following code to implement what we described:"
      ]
    },
    {
      "cell_type": "code",
      "metadata": {
        "id": "0S-DTN70jsYF",
        "colab_type": "code",
        "colab": {}
      },
      "source": [
        "import numpy as np\n",
        "import matplotlib.pyplot as plt\n",
        "\n",
        "\n",
        "def load_image(image_path):\n",
        "  '''this is not really an image loading function'''\n",
        "  print(\"Loading image from {}\".format(image_path))\n",
        "  return np.random.uniform(0, 1, (28, 28, 3))\n",
        "\n",
        "\n",
        "image_path_list = ['images/img_{}.jpg'.format(i+1) for i in range(10000)]\n",
        "\n",
        "batch_size = 32\n",
        "for batch_num in range(0, len(image_path_list), batch_size):\n",
        "  current_batch = image_path_list[batch_num : batch_num + batch_size]\n",
        "  image_list = []\n",
        "  for path in current_batch:\n",
        "    image = load_image(path)\n",
        "    image_list.append(image)\n",
        "  \n",
        "  # process images here..."
      ],
      "execution_count": 0,
      "outputs": []
    },
    {
      "cell_type": "markdown",
      "metadata": {
        "id": "iaxXmNzQn_SQ",
        "colab_type": "text"
      },
      "source": [
        "But with generator, we can implement things differently, which gives us more flexibility "
      ]
    },
    {
      "cell_type": "code",
      "metadata": {
        "id": "3hg-n8VVoWOV",
        "colab_type": "code",
        "colab": {}
      },
      "source": [
        "def image_batch_gen(image_dir, batch_size=32):\n",
        "  image_path_list = ['{}/img_{}.jpg'.format(image_dir, i + 1) for i in range(10000)]\n",
        "  \n",
        "  for i in range(0, len(image_path_list), batch_size):\n",
        "    current_batch = image_path_list[i : i + batch_size]\n",
        "    image_list = []\n",
        "    for p in current_batch:\n",
        "      image_list.append(load_image(p))\n",
        "    yield image_list\n",
        "\n",
        "\n",
        "image_batches = image_batch_gen('images', 100)\n",
        "\n",
        "for batch in image_batches:\n",
        "  # process images here...\n",
        "  pass"
      ],
      "execution_count": 0,
      "outputs": []
    },
    {
      "cell_type": "markdown",
      "metadata": {
        "id": "32-6DCtWI5-K",
        "colab_type": "text"
      },
      "source": [
        "# OOP\n"
      ]
    },
    {
      "cell_type": "markdown",
      "metadata": {
        "id": "MH9tY2OzIycO",
        "colab_type": "text"
      },
      "source": [
        "## Define a class: constructor\n",
        "\n",
        "Python is an object-oriented programming language, we define a class using the following syntax: `class`\n",
        "\n",
        "The first thing we need to do is to define its constructor, this is done by defining the `__init__()` method"
      ]
    },
    {
      "cell_type": "code",
      "metadata": {
        "id": "Uf29bc3JJR9M",
        "colab_type": "code",
        "colab": {}
      },
      "source": [
        "class User:\n",
        "  def __init__(self, name, age):\n",
        "    self.name = name\n",
        "    self.age = age\n",
        "\n",
        "    \n",
        "fabien = User(\"Fabien\", 25)"
      ],
      "execution_count": 0,
      "outputs": []
    },
    {
      "cell_type": "markdown",
      "metadata": {
        "id": "hL3Ly-34JYB2",
        "colab_type": "text"
      },
      "source": [
        "The above code defines a class named `User`, and in the constructor method, we specified 2 member attributes: `name` and `age`. \n",
        "\n",
        "In python, we don't need to declare attributes first, instead, specify them whenever needed.\n",
        "\n",
        "Member attributes are specified with `self`, which is similar to `this` in Java. \n",
        "\n",
        "Class attributes are specified as:"
      ]
    },
    {
      "cell_type": "code",
      "metadata": {
        "id": "hun99dVgKLmJ",
        "colab_type": "code",
        "outputId": "e315ae7e-2de7-4b68-bbd9-73fa78f99969",
        "colab": {
          "base_uri": "https://localhost:8080/",
          "height": 102
        }
      },
      "source": [
        "class User:\n",
        "  \n",
        "  count = 0\n",
        "  \n",
        "  def __init__(self, name, age):\n",
        "    self.name = name\n",
        "    self.age = age\n",
        "    User.count += 1\n",
        "\n",
        "fabien = User('Fabien', 25)\n",
        "print(User.count)\n",
        "print(fabien.count)\n",
        "ethan = User('ethan', 26)\n",
        "print(ethan.count)\n",
        "print(User.count)\n",
        "print(fabien.count)"
      ],
      "execution_count": 0,
      "outputs": [
        {
          "output_type": "stream",
          "text": [
            "1\n",
            "1\n",
            "2\n",
            "2\n",
            "2\n"
          ],
          "name": "stdout"
        }
      ]
    },
    {
      "cell_type": "markdown",
      "metadata": {
        "id": "_NUBR3ifLmRc",
        "colab_type": "text"
      },
      "source": [
        "## Methods\n",
        "\n",
        "Methods in a class are defined inside the class declaration, with their first argument being `self`, such as the following:"
      ]
    },
    {
      "cell_type": "code",
      "metadata": {
        "id": "iPtSlV5GL6F4",
        "colab_type": "code",
        "outputId": "4cd5a129-5472-45f8-8c37-fae065b917ca",
        "colab": {
          "base_uri": "https://localhost:8080/",
          "height": 68
        }
      },
      "source": [
        "class User:\n",
        "  \n",
        "  count = 0\n",
        "  \n",
        "  def __init__(self, name, age):\n",
        "    self.name = name\n",
        "    self.age = age\n",
        "    self.interests = []\n",
        "    User.count += 1\n",
        "  \n",
        "  def greeting(self):\n",
        "    print(\"Hello world, it's {}\".format(self.name))\n",
        "  \n",
        "  def add_interest(self, *interests):\n",
        "    for interest in interests:\n",
        "      self.interests.append(interest)\n",
        "\n",
        "    \n",
        "fabien = User('Fabien', 25)\n",
        "ethan = User('ethan', 26)\n",
        "fabien.greeting()\n",
        "ethan.greeting()\n",
        "\n",
        "fabien.add_interest(\"gaming\", \"coding\")\n",
        "print(*fabien.interests, sep=', ')"
      ],
      "execution_count": 0,
      "outputs": [
        {
          "output_type": "stream",
          "text": [
            "Hello world, it's Fabien\n",
            "Hello world, it's ethan\n",
            "gaming, coding\n"
          ],
          "name": "stdout"
        }
      ]
    },
    {
      "cell_type": "markdown",
      "metadata": {
        "id": "9GGW20tYM_BD",
        "colab_type": "text"
      },
      "source": [
        "## Private attributes\n",
        "\n",
        "In python, everything is accessible, but it's a good habbit to keep sensitive information private to prevent bad things from happening. \n",
        "\n",
        "Specifying private attributes can be achieved through naming the attributes with leading `__`\n",
        "\n",
        "By doing so, the python interpretor will prevent direct accessing private attributes,  but there are ways to do that, so keep in mind."
      ]
    },
    {
      "cell_type": "code",
      "metadata": {
        "id": "HGV5iQ0bNal-",
        "colab_type": "code",
        "outputId": "94470f5e-1381-45ab-f34c-93b4b42c402c",
        "colab": {
          "base_uri": "https://localhost:8080/",
          "height": 215
        }
      },
      "source": [
        "class User:\n",
        "  def __init__(self, name, age):\n",
        "    self.__name = name\n",
        "    self.__age = age\n",
        "    self.interests = []\n",
        "  \n",
        "  def name(self):\n",
        "    return self.__name\n",
        "  \n",
        "  def greeting(self):\n",
        "    print(\"Hello world, it's {}\".format(self.__name))\n",
        "  \n",
        "  def add_interest(self, *interests):\n",
        "    for interest in interests:\n",
        "      self.interests.append(interest)\n",
        "\n",
        "    \n",
        "fabien = User('Fabien', 25)\n",
        "print(fabien.name())\n",
        "print(fabien.__name)"
      ],
      "execution_count": 0,
      "outputs": [
        {
          "output_type": "stream",
          "text": [
            "Fabien\n"
          ],
          "name": "stdout"
        },
        {
          "output_type": "error",
          "ename": "AttributeError",
          "evalue": "ignored",
          "traceback": [
            "\u001b[0;31m---------------------------------------------------------------------------\u001b[0m",
            "\u001b[0;31mAttributeError\u001b[0m                            Traceback (most recent call last)",
            "\u001b[0;32m<ipython-input-54-ac5893d8913b>\u001b[0m in \u001b[0;36m<module>\u001b[0;34m()\u001b[0m\n\u001b[1;32m     18\u001b[0m \u001b[0mfabien\u001b[0m \u001b[0;34m=\u001b[0m \u001b[0mUser\u001b[0m\u001b[0;34m(\u001b[0m\u001b[0;34m'Fabien'\u001b[0m\u001b[0;34m,\u001b[0m \u001b[0;36m25\u001b[0m\u001b[0;34m)\u001b[0m\u001b[0;34m\u001b[0m\u001b[0;34m\u001b[0m\u001b[0m\n\u001b[1;32m     19\u001b[0m \u001b[0mprint\u001b[0m\u001b[0;34m(\u001b[0m\u001b[0mfabien\u001b[0m\u001b[0;34m.\u001b[0m\u001b[0mname\u001b[0m\u001b[0;34m(\u001b[0m\u001b[0;34m)\u001b[0m\u001b[0;34m)\u001b[0m\u001b[0;34m\u001b[0m\u001b[0;34m\u001b[0m\u001b[0m\n\u001b[0;32m---> 20\u001b[0;31m \u001b[0mprint\u001b[0m\u001b[0;34m(\u001b[0m\u001b[0mfabien\u001b[0m\u001b[0;34m.\u001b[0m\u001b[0m__name\u001b[0m\u001b[0;34m)\u001b[0m\u001b[0;34m\u001b[0m\u001b[0;34m\u001b[0m\u001b[0m\n\u001b[0m",
            "\u001b[0;31mAttributeError\u001b[0m: 'User' object has no attribute '__name'"
          ]
        }
      ]
    },
    {
      "cell_type": "markdown",
      "metadata": {
        "id": "BtiRUsZwOQmQ",
        "colab_type": "text"
      },
      "source": [
        "## Class inheritance\n",
        "\n",
        "Inherent a class can be achieved through specifying the super class"
      ]
    },
    {
      "cell_type": "code",
      "metadata": {
        "id": "uqszLBKGOaOe",
        "colab_type": "code",
        "outputId": "3928e6eb-3fdb-4cc3-c750-95b592c198ef",
        "colab": {
          "base_uri": "https://localhost:8080/",
          "height": 51
        }
      },
      "source": [
        "class SuperUser(User):\n",
        "  def __init__(self, id, *args, **kwargs):\n",
        "    super(SuperUser, self).__init__(*args, **kwargs)\n",
        "    self.id = id\n",
        "  \n",
        "fabien = SuperUser(name=\"Fabien\", age=25, id=1)\n",
        "print(fabien.name())\n",
        "fabien.greeting()"
      ],
      "execution_count": 0,
      "outputs": [
        {
          "output_type": "stream",
          "text": [
            "Fabien\n",
            "Hello world, it's Fabien\n"
          ],
          "name": "stdout"
        }
      ]
    },
    {
      "cell_type": "markdown",
      "metadata": {
        "id": "8eW64DELQO4T",
        "colab_type": "text"
      },
      "source": [
        "> Override a method can be achieved through codes like this:"
      ]
    },
    {
      "cell_type": "code",
      "metadata": {
        "id": "V211Hdy2QWio",
        "colab_type": "code",
        "outputId": "64f2faee-9bab-4e63-be5e-b900a4c7c5df",
        "colab": {
          "base_uri": "https://localhost:8080/",
          "height": 51
        }
      },
      "source": [
        "class SuperUser(User):\n",
        "  def __init__(self, id, *args, **kwargs):\n",
        "    super(SuperUser, self).__init__(*args, **kwargs)\n",
        "    self.id = id\n",
        "  \n",
        "  def greeting(self):\n",
        "    print(\"Hello world it's superuser {}\".format(self.name()))\n",
        "  \n",
        "fabien = SuperUser(name=\"Fabien\", age=25, id=1)\n",
        "fabien.greeting()"
      ],
      "execution_count": 0,
      "outputs": [
        {
          "output_type": "stream",
          "text": [
            "Fabien\n",
            "Hello world it's superuser Fabien\n"
          ],
          "name": "stdout"
        }
      ]
    },
    {
      "cell_type": "markdown",
      "metadata": {
        "id": "f1LjhA6TRRCk",
        "colab_type": "text"
      },
      "source": [
        "## `__len__()` method\n",
        "\n",
        "Remember how we get the length of an `iterable` using the built-in function `len()`?\n",
        "\n",
        "The reason we can use this function to calculate the length is that `list`, `str`, and `tuple` are built-in classes which implement the `__len__()` method.\n",
        "\n",
        "Based on that, we can define our class's `__init__()` method so that our class objects can be passed to the `len()` function."
      ]
    },
    {
      "cell_type": "code",
      "metadata": {
        "id": "OkdwU87jSJn8",
        "colab_type": "code",
        "outputId": "64ff4343-e8ec-4da6-d661-e9099e78d7ae",
        "colab": {
          "base_uri": "https://localhost:8080/",
          "height": 51
        }
      },
      "source": [
        "class User:\n",
        "  def __init__(self, name):\n",
        "    self.name = name\n",
        "    self.interests = []\n",
        "  \n",
        "  def add_interests(self, *interests):\n",
        "    for interest in interests:\n",
        "      self.interests.append(interest)\n",
        "  \n",
        "  def __len__(self):\n",
        "    return len(self.interests)\n",
        "\n",
        "  \n",
        "fabien = User(\"Fabien\")\n",
        "print(len(fabien))\n",
        "fabien.add_interests(\"money\", \"coding\", \"cheeseburgers\")\n",
        "print(len(fabien))"
      ],
      "execution_count": 0,
      "outputs": [
        {
          "output_type": "stream",
          "text": [
            "0\n",
            "3\n"
          ],
          "name": "stdout"
        }
      ]
    },
    {
      "cell_type": "markdown",
      "metadata": {
        "id": "UNp9kiesS0Ma",
        "colab_type": "text"
      },
      "source": [
        "## `__str__()` method\n",
        "\n",
        "When writing complex codes, we usually print debugging information on terminal to display things we wish to see. \n",
        "\n",
        "However, when printing an object, we get things like this:"
      ]
    },
    {
      "cell_type": "code",
      "metadata": {
        "id": "ftACxOKhTRd5",
        "colab_type": "code",
        "outputId": "c6cb4b63-e1af-405f-8e4a-b69d84aa3af2",
        "colab": {
          "base_uri": "https://localhost:8080/",
          "height": 34
        }
      },
      "source": [
        "print(fabien)"
      ],
      "execution_count": 0,
      "outputs": [
        {
          "output_type": "stream",
          "text": [
            "<__main__.User object at 0x7f7847598fd0>\n"
          ],
          "name": "stdout"
        }
      ]
    },
    {
      "cell_type": "markdown",
      "metadata": {
        "id": "80Tq8YxmTTsd",
        "colab_type": "text"
      },
      "source": [
        "This gives us the class of this object and its memory location, which in many cases is not very useful. \n",
        "\n",
        "But if we define the class's `__str__()` method, things will change"
      ]
    },
    {
      "cell_type": "code",
      "metadata": {
        "id": "V5rVxHYmTtgO",
        "colab_type": "code",
        "outputId": "355dfaeb-8877-4c18-f803-7c2c522562b2",
        "colab": {
          "base_uri": "https://localhost:8080/",
          "height": 34
        }
      },
      "source": [
        "class User:\n",
        "  def __init__(self, name):\n",
        "    self.name = name\n",
        "    self.interests = []\n",
        "  \n",
        "  def add_interests(self, *interests):\n",
        "    for interest in interests:\n",
        "      self.interests.append(interest)\n",
        "  \n",
        "  def __len__(self):\n",
        "    return len(self.interests)\n",
        "  \n",
        "  def __str__(self):\n",
        "    return \"<User name='{}' num_interests='{}' >\".format(self.name, len(self))\n",
        "    \n",
        "  \n",
        "fabien = User(\"Fabien\")\n",
        "print(fabien)"
      ],
      "execution_count": 0,
      "outputs": [
        {
          "output_type": "stream",
          "text": [
            "<User name='Fabien' num_interests='0' >\n"
          ],
          "name": "stdout"
        }
      ]
    },
    {
      "cell_type": "markdown",
      "metadata": {
        "id": "ejH48OPUUNXX",
        "colab_type": "text"
      },
      "source": [
        "Why is this? Because `print()` method calls `str()` implicitly for us to stringify objects we wish to print which are not strings. \n",
        "\n",
        "So these 2 lines of code are equivalent\n",
        "~~~python\n",
        "print(some_obj)\n",
        "print(str(some_obj))\n",
        "~~~\n",
        "\n"
      ]
    },
    {
      "cell_type": "markdown",
      "metadata": {
        "id": "RtvAtvkRUzpH",
        "colab_type": "text"
      },
      "source": [
        "## `__repr__()` method\n",
        "\n",
        "Let's consider the following code:"
      ]
    },
    {
      "cell_type": "code",
      "metadata": {
        "id": "w2kuh_iQU4YE",
        "colab_type": "code",
        "outputId": "4bd2e610-87d6-461a-8c48-01f18a89dd99",
        "colab": {
          "base_uri": "https://localhost:8080/",
          "height": 34
        }
      },
      "source": [
        "fabien = User(\"Fabien\")\n",
        "ethan = User(\"Ethan\")\n",
        "\n",
        "print([fabien, ethan])"
      ],
      "execution_count": 0,
      "outputs": [
        {
          "output_type": "stream",
          "text": [
            "[<__main__.User object at 0x7f7847505390>, <__main__.User object at 0x7f78475057f0>]\n"
          ],
          "name": "stdout"
        }
      ]
    },
    {
      "cell_type": "markdown",
      "metadata": {
        "id": "LyfTlmIoU-Wt",
        "colab_type": "text"
      },
      "source": [
        "**WHAT THE HELL?**\n",
        "\n",
        "This is because the `print()` function calls `str()` for us on the list object, but not recursively, so our objects' `__str__()` is never executed.\n",
        "\n",
        "In order to fix this, we need to define another built-in method:"
      ]
    },
    {
      "cell_type": "code",
      "metadata": {
        "id": "atun_0FpV_Uc",
        "colab_type": "code",
        "outputId": "0b693b87-5d69-4724-e1c8-b8a3038460e2",
        "colab": {
          "base_uri": "https://localhost:8080/",
          "height": 51
        }
      },
      "source": [
        "class User:\n",
        "  def __init__(self, name):\n",
        "    self.name = name\n",
        "    self.interests = []\n",
        "  \n",
        "  def add_interests(self, *interests):\n",
        "    for interest in interests:\n",
        "      self.interests.append(interest)\n",
        "  \n",
        "  def __len__(self):\n",
        "    return len(self.interests)\n",
        "  \n",
        "  def __str__(self):\n",
        "    return \"User='{}' num_interests='{}' \".format(self.name, len(self))\n",
        "  \n",
        "  def __repr__(self):\n",
        "    return str(self)\n",
        "    \n",
        "  \n",
        "fabien = User(\"Fabien\")\n",
        "ethan = User(\"Ethan\")\n",
        "print(fabien)\n",
        "print([fabien, ethan])"
      ],
      "execution_count": 0,
      "outputs": [
        {
          "output_type": "stream",
          "text": [
            "User='Fabien' num_interests='0' \n",
            "[User='Fabien' num_interests='0' , User='Ethan' num_interests='0' ]\n"
          ],
          "name": "stdout"
        }
      ]
    },
    {
      "cell_type": "markdown",
      "metadata": {
        "id": "KBIZn-G9VCcH",
        "colab_type": "text"
      },
      "source": [
        "Now things are fixed."
      ]
    },
    {
      "cell_type": "markdown",
      "metadata": {
        "id": "aiecKAJKWhtd",
        "colab_type": "text"
      },
      "source": [
        "## `__getitem__()` method\n",
        "\n",
        "Let's say we are building an online bookstore app, and we're to define a \"shelf\" class which can contain a number of books.\n",
        "\n",
        "And we need a quick way to retrive books from a shelf. We can implement it through the following:"
      ]
    },
    {
      "cell_type": "code",
      "metadata": {
        "id": "4aDOWwPJZ1I2",
        "colab_type": "code",
        "outputId": "c4a2daed-422d-4960-af84-159fd33cd5ca",
        "colab": {
          "base_uri": "https://localhost:8080/",
          "height": 68
        }
      },
      "source": [
        "class Shelf:\n",
        "  def __init__(self, category, num):\n",
        "    self.name = category\n",
        "    self.id = num\n",
        "    self.books = []\n",
        "  \n",
        "  def __len__(self):\n",
        "    return len(self.books)\n",
        "  \n",
        "  def __repr__(self):\n",
        "    return \"shelf #{}: {} | # books: {}\".format(self.id, self.name, len(self))\n",
        "  \n",
        "  def add_book(self, *books):\n",
        "    self.books += books\n",
        "  \n",
        "  def __getitem__(self, item):\n",
        "    return self.books[item]\n",
        "  \n",
        "\n",
        "shelf = Shelf(\"Cartoon\", 1)\n",
        "shelf.add_book(\"Ironman\", \"Pokemon\", \"Ninja Turtles\", \"Spider-man\")\n",
        "print(shelf)\n",
        "print(shelf[0])\n",
        "print(shelf[1:3])"
      ],
      "execution_count": 0,
      "outputs": [
        {
          "output_type": "stream",
          "text": [
            "shelf #1: Cartoon | # books: 4\n",
            "Ironman\n",
            "['Pokemon', 'Ninja Turtles']\n"
          ],
          "name": "stdout"
        }
      ]
    },
    {
      "cell_type": "markdown",
      "metadata": {
        "id": "AGsh6w1gbS_P",
        "colab_type": "text"
      },
      "source": [
        "## `__getattr__()` method\n",
        "\n",
        "Sometimes we define a class with `**kwargs`, such as \n",
        "\n",
        "~~~python\n",
        "class User:\n",
        "  def __init__(self, name, age, **extras):\n",
        "    self.name = name\n",
        "    self.age = age\n",
        "    self.extras = extras\n",
        "~~~\n",
        "\n",
        "When creating an object like this:\n",
        "~~~python\n",
        "user = User(name='John', age=20, city='New York')\n",
        "~~~\n",
        "And when we try to retrieve the city information of that user like this:\n",
        "~~~python\n",
        "user.city\n",
        "~~~\n",
        "We will definitely get an error since class User doesn't have an attribute named `city`. \n",
        "\n",
        "To overcome this, one approach is through `__getattr__()` method"
      ]
    },
    {
      "cell_type": "code",
      "metadata": {
        "id": "gprmau0hbVkn",
        "colab_type": "code",
        "outputId": "0b562f0f-d485-47ac-a159-78c39e52ca55",
        "colab": {
          "base_uri": "https://localhost:8080/",
          "height": 34
        }
      },
      "source": [
        "class User:\n",
        "  def __init__(self, name, age, **extras):\n",
        "    self.name = name\n",
        "    self.age = age\n",
        "    self.extras = extras\n",
        "    \n",
        "  def __getattr__(self, key):\n",
        "    return self.extras[key]\n",
        "  \n",
        "user = User(\"John\", 10, city='New York')\n",
        "print(user.name, user.age, user.city)"
      ],
      "execution_count": 0,
      "outputs": [
        {
          "output_type": "stream",
          "text": [
            "John 10 New York\n"
          ],
          "name": "stdout"
        }
      ]
    },
    {
      "cell_type": "markdown",
      "metadata": {
        "id": "vFVfF-ePfPp4",
        "colab_type": "text"
      },
      "source": [
        "## `__call__()` method\n",
        "\n",
        "This particular feature is heavily used in the deep learning library **Keras**, so it's nice to know how it works. \n",
        "\n",
        "There is a concept in python called `callable`, which means objects that can be called and executed. `function` is a type of `callable`, so is `method` in classes. \n",
        "\n",
        "Back to the bookstore example, this time we define an extra class called \"book\", it will contain information about a book such as the name, author, abstract, and price. \n",
        "\n",
        "And we are to define another class called \"store\", which may have a set of books available in storage. \n",
        "\n",
        "We now need a fast way to retrieve book information from a store, but notice that each store may have a different discount. "
      ]
    },
    {
      "cell_type": "code",
      "metadata": {
        "id": "wCT3cYvBhnkW",
        "colab_type": "code",
        "outputId": "53c73032-b228-440e-d8e7-0c9182d20c6e",
        "colab": {
          "base_uri": "https://localhost:8080/",
          "height": 51
        }
      },
      "source": [
        "class Book:\n",
        "  def __init__(self, name, abstract, price):\n",
        "    self.name = name\n",
        "    self.abstract = abstract\n",
        "    self.base_price = price\n",
        "    \n",
        "    \n",
        "books = [\n",
        "    Book(\"Ironman\", \"\", 23.99),\n",
        "    Book(\"Pokemon\", \"\", 25.99),\n",
        "    Book(\"Intro to Python\", \"\", 13.99),\n",
        "    Book(\"Harry Potter\", \"\", 99.89),\n",
        "    Book(\"Spider-man\", \"\", 19.79),\n",
        "]\n",
        "\n",
        "class Store:\n",
        "  def __init__(self, discount, books):\n",
        "    self.books = books\n",
        "    self.discount = discount\n",
        "  \n",
        "  def __getitem__(self, book_name):\n",
        "    for b in self.books:\n",
        "      if b.name == book_name:\n",
        "        return b\n",
        "    print(\"[warning] {} is unavailable in store.\".format(book_name))\n",
        "    return None\n",
        "  \n",
        "  def __call__(self, book_name):\n",
        "    book = self[book_name]\n",
        "    if book is None:\n",
        "      return None\n",
        "    return self.discount * book.base_price\n",
        "  \n",
        "  \n",
        "s = Store(.8, books[:-1])\n",
        "\n",
        "price_1 = s(\"Ironman\")\n",
        "price_2 = s(\"Spider-man\")\n",
        "print(price_1, price_2)"
      ],
      "execution_count": 0,
      "outputs": [
        {
          "output_type": "stream",
          "text": [
            "[warning] Spider-man is unavailable in store.\n",
            "19.192 None\n"
          ],
          "name": "stdout"
        }
      ]
    }
  ]
}